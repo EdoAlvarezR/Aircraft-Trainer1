{
 "cells": [
  {
   "cell_type": "code",
   "execution_count": 8,
   "metadata": {},
   "outputs": [],
   "source": [
    "import CSV\n",
    "\n",
    "import MyUPFLOW\n",
    "up = MyUPFLOW\n",
    "\n",
    "path_design1 = \"design20180903\";"
   ]
  },
  {
   "cell_type": "markdown",
   "metadata": {},
   "source": [
    "# MyTrainer 1.0 &ndash; Design Requirements"
   ]
  },
  {
   "cell_type": "markdown",
   "metadata": {},
   "source": [
    "**NEEDS**\n",
    "1. I need something easy to fly so that I can get experience piloting.\n",
    "2. I need something easy to design so that I can get a feeling of the design process described by Raymer and test my aerodynamics and stability tools.\n",
    "3. I need something easy to manufacture so that I can get initial experience building model airplanes.\n",
    "4. There is no need for avionics.\n",
    "\n",
    "**VISION**\n",
    "> A very stable and easy take-off trainer airplane that can be used to gain piloting experience of conventional configurations.\n",
    "\n",
    "**BUILD REQUIREMENTS**\n",
    "* Conventional configuration aircraft: Wing, vertical and horizontal tail (ailerons, stabilizer, and rudder).\n",
    "* Inherently (passively) stable.\n",
    "* Smallest as possible.\n",
    "\n",
    "**MISSION REQUIREMENTS**\n",
    "* No more than one second of descent during take off."
   ]
  },
  {
   "cell_type": "markdown",
   "metadata": {},
   "source": [
    "Raymer's *Aircraft Design: A Conceptual Approach* outlines the following design process.\n",
    "\n",
    "<img src=\"img/IMG_4012.JPG\" alt=\"Pic here\" style=\"width:700px\">\n",
    "\n",
    "For the sake of trying it out, let's stick to it at much as it is reasonable."
   ]
  },
  {
   "cell_type": "markdown",
   "metadata": {},
   "source": [
    "# Technology Availability"
   ]
  },
  {
   "cell_type": "markdown",
   "metadata": {},
   "source": [
    "This is an initial listing of electronic components to be used:"
   ]
  },
  {
   "cell_type": "code",
   "execution_count": 7,
   "metadata": {},
   "outputs": [
    {
     "data": {
      "text/html": [
       "<table class=\"data-frame\"><thead><tr><th></th><th>Item</th><th>Quantity</th><th>Weight (g)</th><th>Cost ($)</th><th>Vendor</th><th>Description</th></tr></thead><tbody><tr><th>1</th><td>battery</td><td>1</td><td>36</td><td>missing</td><td>missing</td><td>missing</td></tr><tr><th>2</th><td>motor</td><td>2</td><td>15</td><td>missing</td><td>missing</td><td>missing</td></tr><tr><th>3</th><td>ESC</td><td>2</td><td>9</td><td>missing</td><td>missing</td><td>missing</td></tr><tr><th>4</th><td>BEC</td><td>1</td><td>16</td><td>missing</td><td>missing</td><td>missing</td></tr><tr><th>5</th><td>propeller</td><td>2</td><td>3</td><td>missing</td><td>missing</td><td>missing</td></tr><tr><th>6</th><td>servos</td><td>4</td><td>9</td><td>missing</td><td>missing</td><td>missing</td></tr><tr><th>7</th><td>wires</td><td>1</td><td>50</td><td>missing</td><td>missing</td><td>missing</td></tr><tr><th>8</th><td>receiver</td><td>1</td><td>15</td><td>missing</td><td>missing</td><td>missing</td></tr></tbody></table>"
      ],
      "text/plain": [
       "8×6 DataFrames.DataFrame\n",
       "│ Row │ Item      │ Quantity │ Weight (g) │ Cost ($) │ Vendor  │ Description │\n",
       "├─────┼───────────┼──────────┼────────────┼──────────┼─────────┼─────────────┤\n",
       "│ 1   │ battery   │ 1        │ 36         │ \u001b[90mmissing\u001b[39m  │ \u001b[90mmissing\u001b[39m │ \u001b[90mmissing\u001b[39m     │\n",
       "│ 2   │ motor     │ 2        │ 15         │ \u001b[90mmissing\u001b[39m  │ \u001b[90mmissing\u001b[39m │ \u001b[90mmissing\u001b[39m     │\n",
       "│ 3   │ ESC       │ 2        │ 9          │ \u001b[90mmissing\u001b[39m  │ \u001b[90mmissing\u001b[39m │ \u001b[90mmissing\u001b[39m     │\n",
       "│ 4   │ BEC       │ 1        │ 16         │ \u001b[90mmissing\u001b[39m  │ \u001b[90mmissing\u001b[39m │ \u001b[90mmissing\u001b[39m     │\n",
       "│ 5   │ propeller │ 2        │ 3          │ \u001b[90mmissing\u001b[39m  │ \u001b[90mmissing\u001b[39m │ \u001b[90mmissing\u001b[39m     │\n",
       "│ 6   │ servos    │ 4        │ 9          │ \u001b[90mmissing\u001b[39m  │ \u001b[90mmissing\u001b[39m │ \u001b[90mmissing\u001b[39m     │\n",
       "│ 7   │ wires     │ 1        │ 50         │ \u001b[90mmissing\u001b[39m  │ \u001b[90mmissing\u001b[39m │ \u001b[90mmissing\u001b[39m     │\n",
       "│ 8   │ receiver  │ 1        │ 15         │ \u001b[90mmissing\u001b[39m  │ \u001b[90mmissing\u001b[39m │ \u001b[90mmissing\u001b[39m     │"
      ]
     },
     "metadata": {},
     "output_type": "display_data"
    },
    {
     "name": "stdout",
     "output_type": "stream",
     "text": [
      "Total mass of electronics:\t207.0 (g)\n"
     ]
    }
   ],
   "source": [
    "electronics = CSV.read(joinpath(path_design1, \"electronics.csv\"))\n",
    "display(electronics)\n",
    "\n",
    "m_elec = sum(electronics[2].*electronics[3])/1000 # (kg) mass of electronics\n",
    "println(\"Total mass of electronics:\\t$(m_elec*1000) (g)\")"
   ]
  },
  {
   "cell_type": "markdown",
   "metadata": {},
   "source": [
    "# Concept Sketch"
   ]
  },
  {
   "cell_type": "markdown",
   "metadata": {},
   "source": [
    "This is somewhat what I envision\n",
    "\n",
    "<img src=\"img/IMG_4013.JPG\" alt=\"Pic here\" style=\"width:700px\">"
   ]
  },
  {
   "cell_type": "markdown",
   "metadata": {},
   "source": [
    "# Initial Sizing"
   ]
  },
  {
   "cell_type": "markdown",
   "metadata": {},
   "source": [
    "The mass of the fuselage ($M_f$) will be assumed to be zero using a plastic water bottle as the fuselage.\n",
    "\n",
    "The mass of the wing ($M_w$), made out of HD EPS foam of volumetric density $\\rho_f$ and carbon fiber spars of linear density $\\rho_\\text{spar}$, will be approximated as \n",
    "\n",
    "\\begin{align}\n",
    "        \\bullet \\quad & M_w = 0.5 \\cdot 2 \\rho_f \\Big[ \n",
    "            \\left(\\frac{c_{wt}+c_{wr}}{2}\\right) \\frac{b_w/2}{\\cos\\Lambda_w} \n",
    "            \\left(\\frac{c_{wt}+c_{wr}}{2}\\right) \\left(\\frac{t_{wt}^* + t_{wr}^*}{2}\\right) \\Big] +\n",
    "            \\rho_\\text{spar}\\frac{b_w}{\\cos\\Lambda_w} \n",
    "    \\\\ & \\qquad = 0.5 \\cdot \\rho_f \\frac{b_w}{\\cos\\Lambda_w} \n",
    "            \\left(\\frac{c_{wt}+c_{wr}}{2}\\right)^2\n",
    "            \\left(\\frac{t_{wt}^* + t_{wr}^*}{2}\\right) +\n",
    "            \\rho_\\text{spar}\\frac{b_w}{\\cos\\Lambda_w} \n",
    "\\end{align}\n",
    "\n",
    "with $t^*$ the relative airfoil thickness $t^*=t/c$. The same formula is used for the mass of the horizontal stabilizer $M_h$, and the mass of the vertical stabilizer $M_v$ is the formula multiplied by $0.5$. "
   ]
  },
  {
   "cell_type": "markdown",
   "metadata": {},
   "source": [
    "Here is my initial guess of the sizing:"
   ]
  },
  {
   "cell_type": "code",
   "execution_count": 12,
   "metadata": {
    "scrolled": false
   },
   "outputs": [
    {
     "name": "stdout",
     "output_type": "stream",
     "text": [
      "##############################################################################\n",
      "#   PARAMETERS\n",
      "##############################################################################\n",
      "# ------ CONSTANTS\n",
      "g = 9.82            # (m/s^2) gravity\n",
      "rhoinf= 1.225       # (kg/m^3) air density at sea level and 15Cdegs\n",
      "mu = 1.846/10^5     # (kg/m*s) air dynamic viscosity\n",
      "\n",
      "# ------ DESIGN PARAMETERS\n",
      "# magVinf = 5.40    # (m/s) optimum cruise speed\n",
      "\n",
      "# ------ MATERIALS\n",
      "rho_c = 0.483       # (kg/m^2) Cloroplast area density\n",
      "rho_f = 24.8        # (kg/m^3) HD EPS foam volumetric density\n",
      "rho_spar = 50/1000/0.75     # (kg/m) Carbon fiber spar linear density\n",
      "\n",
      "# ------ GEOMETRIC PARAMETERS\n",
      "# # Fuselage\n",
      "# w = 8/100         # (m) width\n",
      "# l = (560.000-230.000)/1000          # (m) length\n",
      "\n",
      "# Wing\n",
      "b_w = 0.75          # (m) span\n",
      "lambda_w = 0        # (deg) sweep\n",
      "c_wroot = 0.20      # (m) root chord\n",
      "t_wroot = 0.10      # (ratio) max thickness/chord at root\n",
      "c_wtip = 0.10       # (m) tip chord\n",
      "t_wtip = 0.20       # (ratio) max thickness/chord at root\n",
      "# barc_w = (c_wtip+c_wroot)/2\n",
      "# AR_w = b_w/c_wtip # Aspect ratio\n",
      "# tr_w = c_wtip/c_wroot             # Taper ratio\n",
      "twist_wroot = 0     # (deg) root twist\n",
      "twist_wtip = -4     # (deg) tip twist\n",
      "gamma_w = 5         # (deg) dihedral\n",
      "\n",
      "\n",
      "# Horizontal stabilizer\n",
      "b_h = b_w/4         # (m) span\n",
      "lambda_h = 0        # (deg) sweep\n",
      "c_hroot = b_h/5     # (m) root chord\n",
      "t_hroot = 0.10      # (ratio) max thickness/chord at root\n",
      "c_htip = c_hroot    # (m) tip chord\n",
      "t_htip = t_hroot    # (ratio) max thickness/chord at root\n",
      "# barc_h = (c_htip+c_hroot)/2\n",
      "# AR_h = b_h/c_htip # Aspect ratio\n",
      "# tr_h = c_htip/c_hroot             # Taper ratio\n",
      "twist_hroot = 0     # (deg) root twist\n",
      "twist_htip = 0      # (deg) tip twist\n",
      "gamma_h = 0         # (deg) dihedral\n",
      "\n",
      "# Vertical stabilizer\n",
      "h_v = 0.75*b_h      # (m) height\n",
      "lambda_v = 20       # (deg) sweep\n",
      "c_vroot = 2*h_v/5   # (m) root chord\n",
      "t_vroot = 0.10      # (ratio) max thickness/chord at root\n",
      "c_vtip = c_vroot    # (m) tip chord\n",
      "t_vtip = t_vroot    # (ratio) max thickness/chord at root\n",
      "# barc_v = (c_vtip+c_vroot)/2\n",
      "# AR_v = b_v/c_vtip # Aspect ratio\n",
      "# tr_v = c_vtip/c_vroot             # Taper ratio\n",
      "twist_vroot = 0     # (deg) root twist\n",
      "twist_vtip = 0      # (deg) tip twist\n",
      "gamma_v = 0         # (deg) dihedral\n",
      "\n",
      "\n",
      "# # Center wing is same width as canard\n",
      "# # centerwing = vlm.simpleWing(b_c, AR_w, tr_w, twist_wroot*180/pi,\n",
      "# # lambda_w*180/pi, gamma_w*180/pi;\n",
      "# # twist_tip=twist_wmid*180/pi, n=n_w, r=r_w)\n",
      "# # Wing tips\n",
      "# t_y_tip = b_w/2\n",
      "# t_x_tip = b_w/2*tan(lambda_w) #t_y_tip*tan(lambda3)\n",
      "# t_z_tip = 0.0#b_c/2*tan(lambda_w)+b_w/2*tan(lambda_w)\n",
      "# t_c_tip = c_wtip\n",
      "# t_twist_tip = twist_wtip\n",
      "# t_y_mid = b_c/2 #starts at the center section\n",
      "# t_x_mid = b_c/2*tan(lambda_w)\n",
      "# t_z_mid = 0.0#b_c/2*tan(lambda_w*180/pi)\n",
      "# t_c_mid = c_wmid\n",
      "# t_twist_mid = twist_wmid\n",
      "#\n",
      "# Sref = 2*b_w*barc_w      # Reference area\n",
      "#\n",
      "# # ------ AIRPLANE ASSEMBLY\n",
      "# x_w, y_w, z_w = l*2/4, 0, -w*1/8   # Wing's position in fuselage\n",
      "# x_c, y_c, z_c = l*1/16, 0, z_w+vertical_offset  # Canard's position in fuselage\n",
      "# # x_t, y_t, z_t = l-l_troot, 0, w/2  # Tail's position in fuselage\n",
      "#\n",
      "# # ------ USEFUL FUNCTIONS\n",
      "# calc_Re(Vinf, l) = rhoinf*Vinf*l/mu\n",
      "# calc_qinf(Vinf) = 1/2*rhoinf*Vinf.^2\n",
      "# Vinfmin, Vinfmax = 3, 20 # (m/s)\n",
      "#\n",
      "#\n",
      "# # ------ ASSUMPTIONS\n",
      "# CLratio = 0.1    # Canard-wing distribution of lift\n",
      "# #   CLratio = CLcanard/CLtot\n",
      "#\n",
      "# # Mass of electronic components\n",
      "# M_base = (9 + 16 + 47 + 14 + 36 + 3 + 32 + 15 + 9*4 + 50)/1000\n",
      "# # Mass of structural components\n",
      "# M_f = rho_c * 4*w*l\n",
      "# M_w = rho_f * b_w/2/cos(lambda_w) * barc_w^2 * t_w\n",
      "# M_c = rho_f * b_c/2/cos(lambda_c) * barc_c^2 * t_c\n",
      "# M_wl = rho_c * barc_wl * h_wl\n",
      "# # M_t = rho_f * barc_t * h_t*t_t\n",
      "# # Total mass\n",
      "# Mtot = sum([M_base, M_f, M_w, M_c, M_wl])\n",
      "# # Required lift in cruise\n",
      "# L = Mtot*g\n",
      "#\n",
      "# println(\"Total mass: $(Mtot) (kg)\")\n",
      "\n",
      "####### END OF PARAMETERS ####################################################\n"
     ]
    }
   ],
   "source": [
    "include(joinpath(path_design1, \"parameters.jl\"))\n",
    "\n",
    "open(joinpath(path_design1, \"parameters.jl\")) do file\n",
    "    for ln in eachline(file)\n",
    "        println(\"$(ln)\")\n",
    "    end\n",
    "end"
   ]
  },
  {
   "cell_type": "code",
   "execution_count": 24,
   "metadata": {},
   "outputs": [
    {
     "name": "stdout",
     "output_type": "stream",
     "text": [
      "****** MASS PER COMPONENT ******\n",
      "Wing:\t\t\t81.0 g\n",
      "Horizontal stabilizer:\t13.0 g\n",
      "Vertical stabilizer:\t11.0 g\n",
      "Electronics:\t\t207.0 g\n",
      "Unpredicted components:\t100.0 g\n",
      "--------------------------------\n",
      "TOTAL MASS:\t\t412.0 g\n",
      "--------------------------------\n"
     ]
    }
   ],
   "source": [
    "\n",
    "# Mass of wing\n",
    "M_w = up.mass_wing(rho_f, b_w, c_wroot, c_wtip, t_wroot, t_wtip, lambda_w; \n",
    "                                                    rho_spar=rho_spar, f=0.5)\n",
    "# Mass of horizontal stabilizer\n",
    "M_h = up.mass_wing(rho_f, b_h, c_hroot, c_htip, t_hroot, t_htip, lambda_h; \n",
    "                                                    rho_spar=rho_spar, f=0.5)\n",
    "# Mass of vertical stabilizer\n",
    "M_v = 0.5*up.mass_wing(rho_f, 2*h_v, c_vroot, c_vtip, t_vroot, t_vtip, lambda_v; \n",
    "                                                    rho_spar=rho_spar, f=0.5)\n",
    "# Unpredicted additional mass\n",
    "M_un = 100/1000\n",
    "\n",
    "M_tot = M_w + M_h + M_v + m_elec + M_un\n",
    "\n",
    "println(\"****** MASS PER COMPONENT ******\")\n",
    "println(\"Wing:\\t\\t\\t$(round(M_w*1000,0)) g\")\n",
    "println(\"Horizontal stabilizer:\\t$(round(M_h*1000,0)) g\")\n",
    "println(\"Vertical stabilizer:\\t$(round(M_v*1000,0)) g\")\n",
    "println(\"Electronics:\\t\\t$(round(m_elec*1000,0)) g\")\n",
    "println(\"Unpredicted components:\\t$(round(M_un*1000,0)) g\")\n",
    "println(\"--------------------------------\")\n",
    "println(\"TOTAL MASS:\\t\\t$(round(M_tot*1000,0)) g\")\n",
    "println(\"--------------------------------\")"
   ]
  },
  {
   "cell_type": "markdown",
   "metadata": {},
   "source": [
    "# TODO"
   ]
  },
  {
   "cell_type": "markdown",
   "metadata": {},
   "source": [
    "* [ ] Visualize current sizing."
   ]
  }
 ],
 "metadata": {
  "kernelspec": {
   "display_name": "Julia 0.6.4",
   "language": "julia",
   "name": "julia-0.6"
  },
  "language_info": {
   "file_extension": ".jl",
   "mimetype": "application/julia",
   "name": "julia",
   "version": "0.6.4"
  }
 },
 "nbformat": 4,
 "nbformat_minor": 2
}
